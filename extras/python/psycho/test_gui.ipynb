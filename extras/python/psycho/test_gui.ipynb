{
 "cells": [
  {
   "cell_type": "markdown",
   "metadata": {},
   "source": [
    "The classes in this file implement several kinds of basic 2-alternative forced choice psychophysics exoeriments.  A stimulus is played to the user, and based on the user's answer a bigger or smaller stimulus is played, where bigger or smaller depends on the type of experiment.\n",
    "\n",
    "Here are the classes:\n",
    "* TestGUI: The basic UI for all experiments\n",
    "    * Exp2AFC: Adds the Levitt threshold setting paradigm\n",
    "        *   AudioExp2AFC: A simple pitch JND experiment\n",
    "        *   TactorExp2AFC: A simple tactor threshold experiment\n",
    "        *   TactorPhaseExp: Testing whether phase is perceptible"
   ]
  },
  {
   "cell_type": "code",
   "execution_count": null,
   "metadata": {},
   "outputs": [],
   "source": [
    "# Copyright 2020 Google LLC\n",
    "#\n",
    "# Licensed under the Apache License, Version 2.0 (the \"License\"); you may not\n",
    "# use this file except in compliance with the License. You may obtain a copy of\n",
    "# the License at\n",
    "#\n",
    "#     https://www.apache.org/licenses/LICENSE-2.0\n",
    "#\n",
    "# Unless required by applicable law or agreed to in writing, software\n",
    "# distributed under the License is distributed on an \"AS IS\" BASIS, WITHOUT\n",
    "# WARRANTIES OR CONDITIONS OF ANY KIND, either express or implied. See the\n",
    "# License for the specific language governing permissions and limitations under\n",
    "# the License.qqq"
   ]
  },
  {
   "cell_type": "code",
   "execution_count": 1,
   "metadata": {},
   "outputs": [],
   "source": [
    "# https://ipython.org/ipython-doc/3/config/extensions/autoreload.html\n",
    "%load_ext autoreload\n",
    "%autoreload 2"
   ]
  },
  {
   "cell_type": "code",
   "execution_count": 2,
   "metadata": {},
   "outputs": [],
   "source": [
    "import matplotlib.pyplot as plt\n",
    "\n",
    "import psycho_gui"
   ]
  },
  {
   "cell_type": "code",
   "execution_count": 3,
   "metadata": {},
   "outputs": [
    {
     "data": {
      "application/vnd.jupyter.widget-view+json": {
       "model_id": "3d2481c20f0942e7b4541ae05447588c",
       "version_major": 2,
       "version_minor": 0
      },
      "text/plain": [
       "VBox(children=(Label(value='This is the Experiment Title'), Label(value='Click on the button indicating which …"
      ]
     },
     "metadata": {},
     "output_type": "display_data"
    }
   ],
   "source": [
    "# Basic GUI.  Just beep once for each trial number. Trial\n",
    "# number goes up with each test answer.\n",
    "\n",
    "test = psycho_gui.TestGui()\n",
    "test.display_widgets()"
   ]
  },
  {
   "cell_type": "code",
   "execution_count": 4,
   "metadata": {},
   "outputs": [
    {
     "data": {
      "application/vnd.jupyter.widget-view+json": {
       "model_id": "97e120a875ab42bb8a10cc837297dbd0",
       "version_major": 2,
       "version_minor": 0
      },
      "text/plain": [
       "VBox(children=(Label(value='This is the Experiment Title'), Label(value='Click on the button indicating which …"
      ]
     },
     "metadata": {},
     "output_type": "display_data"
    }
   ],
   "source": [
    "# Make another instance to make sure they don't interfere.\n",
    "test2 = psycho_gui.TestGui()\n",
    "test2.display_widgets()"
   ]
  },
  {
   "cell_type": "markdown",
   "metadata": {},
   "source": [
    "## Now add the 2AFC Logic"
   ]
  },
  {
   "cell_type": "code",
   "execution_count": 5,
   "metadata": {},
   "outputs": [
    {
     "data": {
      "application/vnd.jupyter.widget-view+json": {
       "model_id": "0b4f06cd37b041d6bddd17bc4ea63032",
       "version_major": 2,
       "version_minor": 0
      },
      "text/plain": [
       "VBox(children=(Label(value='This is a pitch JND experiment'), Label(value='Click on the button indicating whic…"
      ]
     },
     "metadata": {},
     "output_type": "display_data"
    }
   ],
   "source": [
    "exp = psycho_gui.AudioExp2AFC(button_names=['First (up->down)', 'Second (down->up)'], \n",
    "                              title='This is a pitch JND experiment')\n",
    "exp.display_widgets()"
   ]
  },
  {
   "cell_type": "code",
   "execution_count": 6,
   "metadata": {},
   "outputs": [
    {
     "data": {
      "image/png": "[encoded data removed]",
      "text/plain": [
       "<Figure size 432x288 with 1 Axes>"
      ]
     },
     "metadata": {
      "needs_background": "light"
     },
     "output_type": "display_data"
    }
   ],
   "source": [
    "exp.levitt_exp.plot_response()\n",
    "threshold = exp.levitt_exp.calculate_threshold()\n",
    "plt.plot(plt.xlim(), [threshold, threshold], '--');"
   ]
  },
  {
   "cell_type": "code",
   "execution_count": 7,
   "metadata": {},
   "outputs": [
    {
     "data": {
      "text/plain": [
       "0.013310083047508922"
      ]
     },
     "execution_count": 7,
     "metadata": {},
     "output_type": "execute_result"
    }
   ],
   "source": [
    "exp.levitt_exp.calculate_threshold()"
   ]
  },
  {
   "cell_type": "code",
   "execution_count": 8,
   "metadata": {},
   "outputs": [
    {
     "data": {
      "application/vnd.jupyter.widget-view+json": {
       "model_id": "67bc4b924e7d4f72b80c5586d612cb94",
       "version_major": 2,
       "version_minor": 0
      },
      "text/plain": [
       "VBox(children=(Label(value='This is a 220 pitch JND experiment'), Label(value='Click on the button indicating …"
      ]
     },
     "metadata": {},
     "output_type": "display_data"
    },
    {
     "data": {
      "application/vnd.jupyter.widget-view+json": {
       "model_id": "3a43488acc8d41eda29ae6fe2473dcac",
       "version_major": 2,
       "version_minor": 0
      },
      "text/plain": [
       "VBox(children=(Label(value='This is a 440 pitch JND experiment'), Label(value='Click on the button indicating …"
      ]
     },
     "metadata": {},
     "output_type": "display_data"
    }
   ],
   "source": [
    "# Create a set of experiments at a range of stimulus frequencies.\n",
    "audio_exp = {}\n",
    "for f0 in [220,440]:\n",
    "    audio_exp[int(f0)] = psycho_gui.AudioExp2AFC(button_names=['First (up->down)', 'Second (down->up)'], \n",
    "                                                 title=f'This is a {f0} pitch JND experiment',\n",
    "                                                 f0=f0)\n",
    "    audio_exp[int(f0)].display_widgets()"
   ]
  },
  {
   "cell_type": "markdown",
   "metadata": {},
   "source": [
    "## Now try it with the Tactors"
   ]
  },
  {
   "cell_type": "code",
   "execution_count": 10,
   "metadata": {},
   "outputs": [
    {
     "data": {
      "image/png": "[encoded data removed]",
      "text/plain": [
       "<Figure size 432x288 with 1 Axes>"
      ]
     },
     "metadata": {
      "needs_background": "light"
     },
     "output_type": "display_data"
    }
   ],
   "source": [
    "t = psycho_gui.TactorExp2AFC(f0=50, initial_level=0.5)\n",
    "t.create_stimulus()\n",
    "plt.plot(t.test_signal);"
   ]
  },
  {
   "cell_type": "code",
   "execution_count": 11,
   "metadata": {},
   "outputs": [
    {
     "data": {
      "application/vnd.jupyter.widget-view+json": {
       "model_id": "9025c2d144f747188e226f4d7191a91d",
       "version_major": 2,
       "version_minor": 0
      },
      "text/plain": [
       "VBox(children=(Label(value='This is a 62.5 Tactor JND experiment'), Label(value='Click on the button indicatin…"
      ]
     },
     "metadata": {},
     "output_type": "display_data"
    },
    {
     "data": {
      "application/vnd.jupyter.widget-view+json": {
       "model_id": "63433f9820db44838acad04752f6ef37",
       "version_major": 2,
       "version_minor": 0
      },
      "text/plain": [
       "VBox(children=(Label(value='This is a 125 Tactor JND experiment'), Label(value='Click on the button indicating…"
      ]
     },
     "metadata": {},
     "output_type": "display_data"
    },
    {
     "data": {
      "application/vnd.jupyter.widget-view+json": {
       "model_id": "b414f8df301a4aca950eeea588d61535",
       "version_major": 2,
       "version_minor": 0
      },
      "text/plain": [
       "VBox(children=(Label(value='This is a 250 Tactor JND experiment'), Label(value='Click on the button indicating…"
      ]
     },
     "metadata": {},
     "output_type": "display_data"
    },
    {
     "data": {
      "application/vnd.jupyter.widget-view+json": {
       "model_id": "2e2bfc6512984611a59e04886b77a26f",
       "version_major": 2,
       "version_minor": 0
      },
      "text/plain": [
       "VBox(children=(Label(value='This is a 500 Tactor JND experiment'), Label(value='Click on the button indicating…"
      ]
     },
     "metadata": {},
     "output_type": "display_data"
    }
   ],
   "source": [
    "tactile_exp = {}\n",
    "for f0 in [62.5, 125, 250, 500]:\n",
    "    tactile_exp[int(f0)] = psycho_gui.TactorExp2AFC(title=f'This is a {f0} Tactor JND experiment',\n",
    "                                                    f0=f0,\n",
    "                                                    initial_level=0.5)\n",
    "    tactile_exp[int(f0)].display_widgets()"
   ]
  },
  {
   "cell_type": "code",
   "execution_count": 32,
   "metadata": {},
   "outputs": [],
   "source": [
    "tactor_f0s = sorted(tactile_exp.keys())\n",
    "tactor_results = [tactile_exp[f0].levitt_exp.calculate_threshold() for f0 in tactor_f0s]"
   ]
  },
  {
   "cell_type": "code",
   "execution_count": 34,
   "metadata": {},
   "outputs": [
    {
     "data": {
      "image/png": "[encoded data removed]",
      "text/plain": [
       "<Figure size 432x288 with 1 Axes>"
      ]
     },
     "metadata": {
      "needs_background": "light"
     },
     "output_type": "display_data"
    }
   ],
   "source": [
    "plt.loglog(tactor_f0s, tactor_results)\n",
    "plt.title('Tactor Threshold (Malcolm fingers)')\n",
    "plt.xlabel('Tactor frequency (Hz)')\n",
    "plt.ylabel('Amplitude at Threshold');"
   ]
  },
  {
   "cell_type": "code",
   "execution_count": 43,
   "metadata": {},
   "outputs": [
    {
     "data": {
      "application/vnd.jupyter.widget-view+json": {
       "model_id": "b4051ab27945411e986bcc7b3a19a860",
       "version_major": 2,
       "version_minor": 0
      },
      "text/plain": [
       "VBox(children=(Label(value='Which segment at 62.5 has the texture?'), Label(value='Click on the button indicat…"
      ]
     },
     "metadata": {},
     "output_type": "display_data"
    },
    {
     "data": {
      "application/vnd.jupyter.widget-view+json": {
       "model_id": "e9b2f9d618894ac68873ad149c9bdb02",
       "version_major": 2,
       "version_minor": 0
      },
      "text/plain": [
       "VBox(children=(Label(value='Which segment at 125 has the texture?'), Label(value='Click on the button indicati…"
      ]
     },
     "metadata": {},
     "output_type": "display_data"
    },
    {
     "data": {
      "application/vnd.jupyter.widget-view+json": {
       "model_id": "e638da8167214d72982dcb19090cedaf",
       "version_major": 2,
       "version_minor": 0
      },
      "text/plain": [
       "VBox(children=(Label(value='Which segment at 250 has the texture?'), Label(value='Click on the button indicati…"
      ]
     },
     "metadata": {},
     "output_type": "display_data"
    },
    {
     "data": {
      "application/vnd.jupyter.widget-view+json": {
       "model_id": "1a6f7dd2aeac418e885cea5ca264800a",
       "version_major": 2,
       "version_minor": 0
      },
      "text/plain": [
       "VBox(children=(Label(value='Which segment at 500 has the texture?'), Label(value='Click on the button indicati…"
      ]
     },
     "metadata": {},
     "output_type": "display_data"
    }
   ],
   "source": [
    "tactor_exps = {}\n",
    "for f0 in [62.5, 125, 250, 500]:\n",
    "    tactor_exps[int(f0)] = psycho_gui.TactorExp2AFC(initial_level=0.5, \n",
    "                                                    f0=f0,\n",
    "                                                    title=f'Which segment at {f0} has the texture?', \n",
    "                                                    mask_level=0,\n",
    "                                                    click_channel=2,\n",
    "                                                    stim_channel=4,\n",
    "                                                    mask_channel=5)\n",
    "    tactor_exps[int(f0)].display_widgets()"
   ]
  },
  {
   "cell_type": "code",
   "execution_count": 37,
   "metadata": {},
   "outputs": [
    {
     "data": {
      "application/vnd.jupyter.widget-view+json": {
       "model_id": "e42b964b6e444c5287383b4849409451",
       "version_major": 2,
       "version_minor": 0
      },
      "text/plain": [
       "VBox(children=(Label(value='Which segment 125,5 has the texture?'), Label(value='Click on the button indicatin…"
      ]
     },
     "metadata": {},
     "output_type": "display_data"
    },
    {
     "data": {
      "application/vnd.jupyter.widget-view+json": {
       "model_id": "b92d38b9093b4624873d04423182c092",
       "version_major": 2,
       "version_minor": 0
      },
      "text/plain": [
       "VBox(children=(Label(value='Which segment 125,7 has the texture?'), Label(value='Click on the button indicatin…"
      ]
     },
     "metadata": {},
     "output_type": "display_data"
    }
   ],
   "source": [
    "tactor_masks = {}\n",
    "f0 = 125\n",
    "for mask_channel in [5, 7]:\n",
    "    tactor_masks[mask_channel] = psycho_gui.TactorExp2AFC(initial_level=0.5, \n",
    "                                                          f0=f0,\n",
    "                                                          title=f'Which segment {f0},{mask_channel} has the texture?', \n",
    "                                                          mask_level=0.25,\n",
    "                                                          click_channel=2,\n",
    "                                                          stim_channel=4,\n",
    "                                                          mask_channel=mask_channel)\n",
    "    tactor_masks[mask_channel].display_widgets()"
   ]
  },
  {
   "cell_type": "code",
   "execution_count": 195,
   "metadata": {},
   "outputs": [],
   "source": [
    "tactor_masks[12] = tactor_exps[f0]"
   ]
  },
  {
   "cell_type": "code",
   "execution_count": 200,
   "metadata": {},
   "outputs": [
    {
     "data": {
      "image/png": "[encoded data removed]",
      "text/plain": [
       "<Figure size 432x288 with 1 Axes>"
      ]
     },
     "metadata": {
      "needs_background": "light"
     },
     "output_type": "display_data"
    }
   ],
   "source": [
    "f0s = sorted(tactor_exps.keys())\n",
    "f0_results = [tactor_exps[f0].levitt_exp.calculate_threshold() for f0 in f0s]\n",
    "plt.loglog(f0s, f0_results)\n",
    "plt.title('Tactor Threshold (Malcolm inside forearm)')\n",
    "plt.xlabel('Tactor frequency (Hz)')\n",
    "plt.ylabel('Amplitude at Threshold');"
   ]
  },
  {
   "cell_type": "code",
   "execution_count": 203,
   "metadata": {},
   "outputs": [
    {
     "data": {
      "image/png": "[encoded data removed]",
      "text/plain": [
       "<Figure size 432x288 with 1 Axes>"
      ]
     },
     "metadata": {
      "needs_background": "light"
     },
     "output_type": "display_data"
    }
   ],
   "source": [
    "mask_channels = sorted(tactor_masks.keys())\n",
    "mask_results = [tactor_masks[channel].levitt_exp.calculate_threshold() for channel in mask_channels]\n",
    "plt.plot(mask_channels, mask_results)\n",
    "plt.title('Tactor Threshold (Malcolm inside forearm #4)')\n",
    "plt.xlabel('Mask Channel (close->far)')\n",
    "plt.ylabel('Amplitude at Threshold');"
   ]
  },
  {
   "cell_type": "markdown",
   "metadata": {},
   "source": [
    "## Tactor Phase Experiment"
   ]
  },
  {
   "cell_type": "code",
   "execution_count": 35,
   "metadata": {},
   "outputs": [
    {
     "data": {
      "application/vnd.jupyter.widget-view+json": {
       "model_id": "ca96e9e22ec3468fabef1b70139f93f1",
       "version_major": 2,
       "version_minor": 0
      },
      "text/plain": [
       "VBox(children=(Label(value='Are the two signals the same or different?'), Label(value='Click on the button ind…"
      ]
     },
     "metadata": {},
     "output_type": "display_data"
    },
    {
     "data": {
      "application/vnd.jupyter.widget-view+json": {
       "model_id": "2472e7fe6d404004a25c69934465fa14",
       "version_major": 2,
       "version_minor": 0
      },
      "text/plain": [
       "VBox(children=(Label(value='Are the two signals the same or different?'), Label(value='Click on the button ind…"
      ]
     },
     "metadata": {},
     "output_type": "display_data"
    },
    {
     "data": {
      "application/vnd.jupyter.widget-view+json": {
       "model_id": "dc2a9e6a00214fd4b08b4e19a2879557",
       "version_major": 2,
       "version_minor": 0
      },
      "text/plain": [
       "VBox(children=(Label(value='Are the two signals the same or different?'), Label(value='Click on the button ind…"
      ]
     },
     "metadata": {},
     "output_type": "display_data"
    }
   ],
   "source": [
    "phase_exps = {}\n",
    "for f0 in [32, 125, 500]:\n",
    "    phase_exps[int(f0)] = psycho_gui.TactorPhaseExp(initial_level=0.5, \n",
    "                                                    f0=f0, \n",
    "                                                    stim_channel=2,\n",
    "                                                    stim2_channel=7,\n",
    "                                                    mask_level=0)\n",
    "    phase_exps[int(f0)].display_widgets()"
   ]
  },
  {
   "cell_type": "code",
   "execution_count": 12,
   "metadata": {},
   "outputs": [
    {
     "data": {
      "application/vnd.jupyter.widget-view+json": {
       "model_id": "cbf850eba45140c8a4056cb2222006bd",
       "version_major": 2,
       "version_minor": 0
      },
      "text/plain": [
       "HBox(children=(FloatSlider(value=32.0, continuous_update=False, description='F0:', max=250.0, min=25.0, orient…"
      ]
     },
     "metadata": {},
     "output_type": "display_data"
    }
   ],
   "source": [
    "exp = psycho_gui.TactorPhaseExp(stim_channel=2, stim2_channel=7, initial_level=0.5)\n",
    "exp.play_widget()"
   ]
  },
  {
   "cell_type": "code",
   "execution_count": null,
   "metadata": {},
   "outputs": [],
   "source": []
  }
 ],
 "metadata": {
  "kernelspec": {
   "display_name": "Python 3",
   "language": "python",
   "name": "python3"
  },
  "language_info": {
   "codemirror_mode": {
    "name": "ipython",
    "version": 3
   },
   "file_extension": ".py",
   "mimetype": "text/x-python",
   "name": "python",
   "nbconvert_exporter": "python",
   "pygments_lexer": "ipython3",
   "version": "3.7.3"
  }
 },
 "nbformat": 4,
 "nbformat_minor": 4
}
